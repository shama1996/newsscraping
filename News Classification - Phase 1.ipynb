{
 "cells": [
  {
   "cell_type": "code",
   "execution_count": 81,
   "metadata": {},
   "outputs": [],
   "source": [
    "#Importing Libraries\n",
    "import selenium\n",
    "import pandas as pd\n",
    "# Importing selenium webdriver \n",
    "from selenium import webdriver"
   ]
  },
  {
   "cell_type": "code",
   "execution_count": 82,
   "metadata": {},
   "outputs": [],
   "source": [
    "driver = webdriver.Chrome(r'C:\\Users\\udayakiran\\Desktop\\chromedriver.exe')"
   ]
  },
  {
   "cell_type": "code",
   "execution_count": 89,
   "metadata": {},
   "outputs": [],
   "source": [
    "vertical, Headline, date,Author, Description = [],[],[],[],[]"
   ]
  },
  {
   "cell_type": "code",
   "execution_count": 90,
   "metadata": {},
   "outputs": [],
   "source": [
    "for page in range(562,598):\n",
    "    head_temp=[]\n",
    "    url = \"https://www.ebmnews.com/2019/page/\"+str(page)\n",
    "    driver.get(url)\n",
    "    for i in driver.find_elements_by_tag_name(\"h2\"):\n",
    "        Headline.append(i.text)\n",
    "        head_temp.append(i.text)\n",
    "    [date.append(i.text) for i in driver.find_elements_by_xpath(\"//span[@class ='time']/time[1]\")]        \n",
    "    [Author.append(i.text) for i in driver.find_elements_by_xpath(\"//div[@class ='post-meta']/a[1]/i[1]\")]\n",
    "    [Description.append(i.text) for i in driver.find_elements_by_xpath(\"//div[@class ='post-summary']\")]   \n",
    "    for hl in head_temp:\n",
    "        url = \"https://www.ebmnews.com/\"+str(hl.replace(\" \", \"-\"))\n",
    "        driver.get(url)\n",
    "        for i in driver.find_elements_by_xpath(\"//ul[@class='bf-breadcrumb-items']/li[2]\"):\n",
    "            if i.text is None or i.text=='' or i.text =='404 Not Found':\n",
    "                vertical.append('News Removed/page not available')\n",
    "            else:\n",
    "                vertical.append(i.text)"
   ]
  },
  {
   "cell_type": "code",
   "execution_count": 91,
   "metadata": {},
   "outputs": [],
   "source": [
    "List_of_views=pd.DataFrame({\"Date\":pd.Series(date),\n",
    "                            \"Vertical\":pd.Series(vertical),\n",
    "                            \"Head Line\":pd.Series(Headline),\n",
    "                            \"Author\":pd.Series(Author),\n",
    "                            \"Description\":pd.Series(Description)                           \n",
    "                           })\n",
    "compression_opts = dict(method='zip', archive_name='News_Classification_EBM_news.csv')\n",
    "List_of_views.to_csv('News_Classification_EBM_news.zip', index=False, compression=compression_opts)"
   ]
  },
  {
   "cell_type": "code",
   "execution_count": 94,
   "metadata": {},
   "outputs": [
    {
     "data": {
      "text/html": [
       "<div>\n",
       "<style scoped>\n",
       "    .dataframe tbody tr th:only-of-type {\n",
       "        vertical-align: middle;\n",
       "    }\n",
       "\n",
       "    .dataframe tbody tr th {\n",
       "        vertical-align: top;\n",
       "    }\n",
       "\n",
       "    .dataframe thead th {\n",
       "        text-align: right;\n",
       "    }\n",
       "</style>\n",
       "<table border=\"1\" class=\"dataframe\">\n",
       "  <thead>\n",
       "    <tr style=\"text-align: right;\">\n",
       "      <th></th>\n",
       "      <th>Date</th>\n",
       "      <th>Vertical</th>\n",
       "      <th>Head Line</th>\n",
       "      <th>Author</th>\n",
       "      <th>Description</th>\n",
       "    </tr>\n",
       "  </thead>\n",
       "  <tbody>\n",
       "    <tr>\n",
       "      <th>0</th>\n",
       "      <td>May 25, 2019</td>\n",
       "      <td>Entertainment</td>\n",
       "      <td>Are The Fans Disappointed?</td>\n",
       "      <td>Reporter</td>\n",
       "      <td>Recently, Prabhas came up with the much-awaite...</td>\n",
       "    </tr>\n",
       "    <tr>\n",
       "      <th>1</th>\n",
       "      <td>May 25, 2019</td>\n",
       "      <td>Sports</td>\n",
       "      <td>Young Hashmatullah stars as Afghanistan stun P...</td>\n",
       "      <td>Reporter</td>\n",
       "      <td>Bristol, May 24: Afghanistan announced their i...</td>\n",
       "    </tr>\n",
       "    <tr>\n",
       "      <th>2</th>\n",
       "      <td>May 25, 2019</td>\n",
       "      <td>Business</td>\n",
       "      <td>UK PM Theresa May Resigns Amid Brexit Crisis</td>\n",
       "      <td>Reporter</td>\n",
       "      <td>British prime minister Theresa May announces r...</td>\n",
       "    </tr>\n",
       "    <tr>\n",
       "      <th>3</th>\n",
       "      <td>May 25, 2019</td>\n",
       "      <td>News Removed/page not available</td>\n",
       "      <td>Ashok Leyland’s Q4 Profit Declines 12%</td>\n",
       "      <td>Reporter</td>\n",
       "      <td>Commercial vehicle maker, Ashok Leyland, repor...</td>\n",
       "    </tr>\n",
       "    <tr>\n",
       "      <th>4</th>\n",
       "      <td>May 25, 2019</td>\n",
       "      <td>World</td>\n",
       "      <td>Two more Indian mountaineers die on Mount Everest</td>\n",
       "      <td>Reporter</td>\n",
       "      <td>KATHMANDU: Two more Indian climbers have died ...</td>\n",
       "    </tr>\n",
       "  </tbody>\n",
       "</table>\n",
       "</div>"
      ],
      "text/plain": [
       "           Date                         Vertical  \\\n",
       "0  May 25, 2019                    Entertainment   \n",
       "1  May 25, 2019                           Sports   \n",
       "2  May 25, 2019                         Business   \n",
       "3  May 25, 2019  News Removed/page not available   \n",
       "4  May 25, 2019                            World   \n",
       "\n",
       "                                           Head Line    Author  \\\n",
       "0                         Are The Fans Disappointed?  Reporter   \n",
       "1  Young Hashmatullah stars as Afghanistan stun P...  Reporter   \n",
       "2       UK PM Theresa May Resigns Amid Brexit Crisis  Reporter   \n",
       "3             Ashok Leyland’s Q4 Profit Declines 12%  Reporter   \n",
       "4  Two more Indian mountaineers die on Mount Everest  Reporter   \n",
       "\n",
       "                                         Description  \n",
       "0  Recently, Prabhas came up with the much-awaite...  \n",
       "1  Bristol, May 24: Afghanistan announced their i...  \n",
       "2  British prime minister Theresa May announces r...  \n",
       "3  Commercial vehicle maker, Ashok Leyland, repor...  \n",
       "4  KATHMANDU: Two more Indian climbers have died ...  "
      ]
     },
     "execution_count": 94,
     "metadata": {},
     "output_type": "execute_result"
    }
   ],
   "source": [
    "List_of_views.head()"
   ]
  },
  {
   "cell_type": "code",
   "execution_count": null,
   "metadata": {},
   "outputs": [],
   "source": []
  }
 ],
 "metadata": {
  "kernelspec": {
   "display_name": "Python 3",
   "language": "python",
   "name": "python3"
  },
  "language_info": {
   "codemirror_mode": {
    "name": "ipython",
    "version": 3
   },
   "file_extension": ".py",
   "mimetype": "text/x-python",
   "name": "python",
   "nbconvert_exporter": "python",
   "pygments_lexer": "ipython3",
   "version": "3.8.3"
  }
 },
 "nbformat": 4,
 "nbformat_minor": 4
}
